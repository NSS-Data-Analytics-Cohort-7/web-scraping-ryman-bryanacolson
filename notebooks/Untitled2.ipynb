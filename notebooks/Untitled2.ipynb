{
 "cells": [
  {
   "cell_type": "code",
   "execution_count": null,
   "id": "e13ef362",
   "metadata": {},
   "outputs": [],
   "source": [
    "# requests"
   ]
  },
  {
   "cell_type": "code",
   "execution_count": null,
   "id": "6fd5f275",
   "metadata": {},
   "outputs": [],
   "source": [
    "import requests\n",
    "from pandasql import sqldf\n",
    "from sklearn import datasets\n",
    "import pandas as pd\n",
    "import inspect\n",
    "from bs4 import BeautifulSoup\n",
    "import datetime\n",
    "from time import strptime\n",
    "from datetime import datetime"
   ]
  },
  {
   "cell_type": "code",
   "execution_count": null,
   "id": "5038d5b1",
   "metadata": {},
   "outputs": [],
   "source": [
    "#URL"
   ]
  },
  {
   "cell_type": "code",
   "execution_count": null,
   "id": "2b3a1387",
   "metadata": {},
   "outputs": [],
   "source": [
    "URL = 'https://ryman.com/events/'\n",
    "\n",
    "response = requests.get(URL)"
   ]
  },
  {
   "cell_type": "code",
   "execution_count": null,
   "id": "361e67f4",
   "metadata": {},
   "outputs": [],
   "source": [
    "# print response"
   ]
  },
  {
   "cell_type": "code",
   "execution_count": null,
   "id": "1968c69a",
   "metadata": {
    "scrolled": true
   },
   "outputs": [],
   "source": [
    "print(response.content)"
   ]
  },
  {
   "cell_type": "code",
   "execution_count": null,
   "id": "575f5823",
   "metadata": {},
   "outputs": [],
   "source": [
    "#beautiful soup"
   ]
  },
  {
   "cell_type": "code",
   "execution_count": null,
   "id": "d2a584ed",
   "metadata": {},
   "outputs": [],
   "source": [
    "soup = BeautifulSoup(response.content, 'html.parser')"
   ]
  },
  {
   "cell_type": "code",
   "execution_count": null,
   "id": "49496476",
   "metadata": {},
   "outputs": [],
   "source": [
    "results = soup.find(class_='row')\n",
    "print(results)"
   ]
  },
  {
   "cell_type": "code",
   "execution_count": null,
   "id": "ec81b5cc",
   "metadata": {},
   "outputs": [],
   "source": [
    "#prettify"
   ]
  },
  {
   "cell_type": "code",
   "execution_count": null,
   "id": "aeba273d",
   "metadata": {},
   "outputs": [],
   "source": [
    "results = soup.find(class_=\"row\")\n",
    "print(results.prettify())"
   ]
  },
  {
   "cell_type": "code",
   "execution_count": null,
   "id": "78cd0bb5",
   "metadata": {},
   "outputs": [],
   "source": [
    "#website tags"
   ]
  },
  {
   "cell_type": "code",
   "execution_count": null,
   "id": "81b8a962",
   "metadata": {},
   "outputs": [],
   "source": [
    "for tag in soup.findAll(True):\n",
    "    print(tag.name)"
   ]
  },
  {
   "cell_type": "markdown",
   "id": "20d60e74",
   "metadata": {},
   "source": [
    "# 1"
   ]
  },
  {
   "cell_type": "code",
   "execution_count": null,
   "id": "0a543afe",
   "metadata": {},
   "outputs": [],
   "source": [
    "#artists"
   ]
  },
  {
   "cell_type": "code",
   "execution_count": null,
   "id": "63f38643",
   "metadata": {},
   "outputs": [],
   "source": [
    "artists = soup.findAll('h2')\n",
    "print(type(artists))\n",
    "artists"
   ]
  },
  {
   "cell_type": "code",
   "execution_count": null,
   "id": "0674e07f",
   "metadata": {},
   "outputs": [],
   "source": [
    "artist_list = []\n",
    "for a in artists:\n",
    "    for name in a.findAll('a'):\n",
    "        artist_list.append(name.get('title'))\n",
    "        print('name:' + name.get('title'))"
   ]
  },
  {
   "cell_type": "code",
   "execution_count": null,
   "id": "3e0c1bb7",
   "metadata": {},
   "outputs": [],
   "source": [
    "#artist_df"
   ]
  },
  {
   "cell_type": "code",
   "execution_count": null,
   "id": "c5dfa278",
   "metadata": {},
   "outputs": [],
   "source": [
    "artist_df = pd.DataFrame(artist_list, columns = ['title'])\n",
    "artist_df"
   ]
  },
  {
   "cell_type": "markdown",
   "id": "d84d8dbc",
   "metadata": {},
   "source": [
    "# 2"
   ]
  },
  {
   "cell_type": "code",
   "execution_count": null,
   "id": "1ca74965",
   "metadata": {},
   "outputs": [],
   "source": [
    "#time"
   ]
  },
  {
   "cell_type": "code",
   "execution_count": null,
   "id": "97dfa58e",
   "metadata": {},
   "outputs": [],
   "source": [
    "time = soup.findAll('time')\n",
    "print(time)\n",
    "time"
   ]
  },
  {
   "cell_type": "code",
   "execution_count": null,
   "id": "bd74e9ba",
   "metadata": {},
   "outputs": [],
   "source": [
    "#time_df"
   ]
  },
  {
   "cell_type": "code",
   "execution_count": null,
   "id": "a341eba3",
   "metadata": {},
   "outputs": [],
   "source": [
    "time_df= pd.DataFrame(time, columns= ['time datetime'])\n",
    "time_df"
   ]
  },
  {
   "cell_type": "code",
   "execution_count": null,
   "id": "30cda5fc",
   "metadata": {},
   "outputs": [],
   "source": [
    "time_df['time datetime'] = [x.split(maxsplit=1)[1] for x in time_df['time datetime']]\n",
    "print(time_df)"
   ]
  },
  {
   "cell_type": "code",
   "execution_count": null,
   "id": "1dfd1f12",
   "metadata": {},
   "outputs": [],
   "source": [
    "timedf= pd.DataFrame(time, columns= ['time datetime'])\n",
    "timedf"
   ]
  },
  {
   "cell_type": "code",
   "execution_count": null,
   "id": "773340bb",
   "metadata": {},
   "outputs": [],
   "source": [
    "time_df2 = pd.DataFrame(time_df, columns=['time datetime'])\n",
    "time_df2"
   ]
  },
  {
   "cell_type": "markdown",
   "id": "1918ff84",
   "metadata": {},
   "source": [
    "# 3"
   ]
  },
  {
   "cell_type": "code",
   "execution_count": null,
   "id": "137f27cc",
   "metadata": {},
   "outputs": [],
   "source": [
    "#concat"
   ]
  },
  {
   "cell_type": "code",
   "execution_count": null,
   "id": "b8372b88",
   "metadata": {},
   "outputs": [],
   "source": [
    "concatenated2= pd.concat([timedf, time_df2, artist_df], axis=1)\n",
    "concatenated2"
   ]
  },
  {
   "cell_type": "code",
   "execution_count": null,
   "id": "4fc1ce00",
   "metadata": {},
   "outputs": [],
   "source": [
    "#first 5 pages"
   ]
  },
  {
   "cell_type": "code",
   "execution_count": null,
   "id": "7f7ae8c9",
   "metadata": {},
   "outputs": [],
   "source": [
    "page = 1 \n",
    "perfbig = []\n",
    "timebig = []\n",
    "datebig = []\n",
    "\n",
    "while page != 6:\n",
    "    url = f'https://ryman.com/events/list/?tribe_event_display=list&tribe_paged={page}'\n",
    "    respone = requests.get(URL)\n",
    "    soup = BeautifulSoup(response.text)\n",
    "    \n",
    "    for y in soup.find_all(attrs = {'class':'tribe-event-url'}):\n",
    "        perfbig.append(y.get('title'))\n",
    "        \n",
    "    for x in soup.find_all('time'):\n",
    "        x = x.get('datetime')\n",
    "        x = x.split(' ', 1)\n",
    "        datebig.append(x[0])\n",
    "        timebig.append(x[1])\n",
    "    page = page + 1\n",
    "print(perfbig)\n",
    "print(timebig)\n",
    "print(datebig)"
   ]
  },
  {
   "cell_type": "code",
   "execution_count": null,
   "id": "b91a1f16",
   "metadata": {},
   "outputs": [],
   "source": [
    "#perfbig df"
   ]
  },
  {
   "cell_type": "code",
   "execution_count": null,
   "id": "a39424ad",
   "metadata": {},
   "outputs": [],
   "source": [
    "perf_df = pd.DataFrame(perfbig)\n",
    "perf_df"
   ]
  },
  {
   "cell_type": "code",
   "execution_count": null,
   "id": "320fe95a",
   "metadata": {},
   "outputs": [],
   "source": [
    "#time big df"
   ]
  },
  {
   "cell_type": "code",
   "execution_count": null,
   "id": "bf37169f",
   "metadata": {},
   "outputs": [],
   "source": [
    "time_df = pd.DataFrame(timebig)\n",
    "time_df"
   ]
  },
  {
   "cell_type": "code",
   "execution_count": null,
   "id": "e1a7f194",
   "metadata": {},
   "outputs": [],
   "source": [
    "#date big df"
   ]
  },
  {
   "cell_type": "code",
   "execution_count": null,
   "id": "f0d66d74",
   "metadata": {},
   "outputs": [],
   "source": [
    "date_df = pd.DataFrame(datebig)\n",
    "date_df"
   ]
  },
  {
   "cell_type": "markdown",
   "id": "bbc48572",
   "metadata": {},
   "source": [
    "# 4"
   ]
  },
  {
   "cell_type": "code",
   "execution_count": null,
   "id": "60ae0c12",
   "metadata": {},
   "outputs": [],
   "source": [
    "#concat"
   ]
  },
  {
   "cell_type": "code",
   "execution_count": null,
   "id": "9b903270",
   "metadata": {},
   "outputs": [],
   "source": [
    "concatenated = pd.concat([perf_df, time_df, date_df], axis=1)\n",
    "concatenated"
   ]
  }
 ],
 "metadata": {
  "kernelspec": {
   "display_name": "Python 3 (ipykernel)",
   "language": "python",
   "name": "python3"
  },
  "language_info": {
   "codemirror_mode": {
    "name": "ipython",
    "version": 3
   },
   "file_extension": ".py",
   "mimetype": "text/x-python",
   "name": "python",
   "nbconvert_exporter": "python",
   "pygments_lexer": "ipython3",
   "version": "3.9.12"
  }
 },
 "nbformat": 4,
 "nbformat_minor": 5
}

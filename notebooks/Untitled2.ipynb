{
 "cells": [
  {
   "cell_type": "code",
   "execution_count": null,
   "id": "e13ef362",
   "metadata": {},
   "outputs": [],
   "source": [
    "# requests"
   ]
  },
  {
   "cell_type": "code",
   "execution_count": null,
   "id": "6fd5f275",
   "metadata": {},
   "outputs": [],
   "source": [
    "import requests\n",
    "from pandasql import sqldf\n",
    "from sklearn import datasets\n",
    "import pandas as pd\n",
    "import inspect\n",
    "from bs4 import BeautifulSoup as bs\n",
    "import datetime\n",
    "from time import strptime\n",
    "from datetime import datetime"
   ]
  },
  {
   "cell_type": "code",
   "execution_count": null,
   "id": "5038d5b1",
   "metadata": {},
   "outputs": [],
   "source": [
    "#URL"
   ]
  },
  {
   "cell_type": "code",
   "execution_count": null,
   "id": "2b3a1387",
   "metadata": {},
   "outputs": [],
   "source": [
    "URL = 'https://ryman.com/events/'\n",
    "\n",
    "response = requests.get(URL)"
   ]
  },
  {
   "cell_type": "code",
   "execution_count": null,
   "id": "361e67f4",
   "metadata": {},
   "outputs": [],
   "source": [
    "# print response"
   ]
  },
  {
   "cell_type": "code",
   "execution_count": null,
   "id": "1968c69a",
   "metadata": {
    "scrolled": true
   },
   "outputs": [],
   "source": [
    "print(response.content)"
   ]
  },
  {
   "cell_type": "code",
   "execution_count": null,
   "id": "575f5823",
   "metadata": {},
   "outputs": [],
   "source": [
    "#beautiful soup"
   ]
  },
  {
   "cell_type": "code",
   "execution_count": null,
   "id": "d2a584ed",
   "metadata": {},
   "outputs": [],
   "source": [
    "soup = BeautifulSoup(response.content, 'html.parser')"
   ]
  },
  {
   "cell_type": "code",
   "execution_count": null,
   "id": "49496476",
   "metadata": {},
   "outputs": [],
   "source": [
    "results = soup.find(class_='row')\n",
    "print(results)"
   ]
  },
  {
   "cell_type": "code",
   "execution_count": null,
   "id": "ef3c69d3",
   "metadata": {},
   "outputs": [],
   "source": [
    "artist_elemns = results.findAll('li', class_='row')\n",
    "for artist_elemn in artist_elemns:\n",
    "    print(artist_elemn.text)"
   ]
  },
  {
   "cell_type": "code",
   "execution_count": null,
   "id": "ec81b5cc",
   "metadata": {},
   "outputs": [],
   "source": [
    "#prettify"
   ]
  },
  {
   "cell_type": "code",
   "execution_count": null,
   "id": "aeba273d",
   "metadata": {},
   "outputs": [],
   "source": [
    "results = soup.find(class_=\"row\")\n",
    "print(results.prettify)"
   ]
  },
  {
   "cell_type": "code",
   "execution_count": null,
   "id": "78cd0bb5",
   "metadata": {},
   "outputs": [],
   "source": [
    "#website tags"
   ]
  },
  {
   "cell_type": "code",
   "execution_count": null,
   "id": "81b8a962",
   "metadata": {},
   "outputs": [],
   "source": [
    "for tag in soup.findAll(True):\n",
    "    print(tag.name)"
   ]
  },
  {
   "cell_type": "code",
   "execution_count": null,
   "id": "0a543afe",
   "metadata": {},
   "outputs": [],
   "source": [
    "#artists"
   ]
  },
  {
   "cell_type": "code",
   "execution_count": null,
   "id": "63f38643",
   "metadata": {},
   "outputs": [],
   "source": [
    "artists = soup.findAll('h2')\n",
    "print(type(artists))\n",
    "artists"
   ]
  },
  {
   "cell_type": "code",
   "execution_count": null,
   "id": "0674e07f",
   "metadata": {},
   "outputs": [],
   "source": [
    "artist_list = []\n",
    "for a in artists:\n",
    "    for name in a.findAll('a'):\n",
    "        artist_list.append(name.get('title'))\n",
    "        print('name:' + name.get('title'))"
   ]
  },
  {
   "cell_type": "code",
   "execution_count": null,
   "id": "3e0c1bb7",
   "metadata": {},
   "outputs": [],
   "source": [
    "#artist_df"
   ]
  },
  {
   "cell_type": "code",
   "execution_count": null,
   "id": "c5dfa278",
   "metadata": {},
   "outputs": [],
   "source": [
    "artist_df = pd.DataFrame(artist_list, columns = ['title'])\n",
    "artist_df"
   ]
  },
  {
   "cell_type": "code",
   "execution_count": null,
   "id": "1ca74965",
   "metadata": {},
   "outputs": [],
   "source": [
    "#time"
   ]
  },
  {
   "cell_type": "code",
   "execution_count": null,
   "id": "97dfa58e",
   "metadata": {},
   "outputs": [],
   "source": [
    "time = soup.findAll('time')\n",
    "print(time)\n",
    "time"
   ]
  },
  {
   "cell_type": "code",
   "execution_count": null,
   "id": "330327e2",
   "metadata": {},
   "outputs": [],
   "source": [
    "time_list = []\n",
    "for t in time:\n",
    "    for name in a.findAll('t'):\n",
    "        time_list.append(name.get('time datetime'))\n",
    "        print(name.get('time datetime'))"
   ]
  },
  {
   "cell_type": "code",
   "execution_count": null,
   "id": "bd74e9ba",
   "metadata": {},
   "outputs": [],
   "source": [
    "#time_df"
   ]
  },
  {
   "cell_type": "code",
   "execution_count": null,
   "id": "a341eba3",
   "metadata": {},
   "outputs": [],
   "source": [
    "time_df= pd.DataFrame(time, columns= ['time datetime'])\n",
    "time_df"
   ]
  },
  {
   "cell_type": "code",
   "execution_count": null,
   "id": "66c83c59",
   "metadata": {},
   "outputs": [],
   "source": [
    "timedf= pd.DataFrame(time, columns= ['time datetime'])\n",
    "timedf"
   ]
  },
  {
   "cell_type": "code",
   "execution_count": null,
   "id": "30cda5fc",
   "metadata": {},
   "outputs": [],
   "source": [
    "time_df['time datetime'] = [x.split(maxsplit=1)[1] for x in time_df['time datetime']]\n",
    "print(time_df)"
   ]
  },
  {
   "cell_type": "code",
   "execution_count": null,
   "id": "773340bb",
   "metadata": {},
   "outputs": [],
   "source": [
    "time_df2 = pd.DataFrame(time_df, columns=['time datetime'])\n",
    "time_df2"
   ]
  },
  {
   "cell_type": "code",
   "execution_count": null,
   "id": "137f27cc",
   "metadata": {},
   "outputs": [],
   "source": [
    "#concat"
   ]
  },
  {
   "cell_type": "code",
   "execution_count": null,
   "id": "b8372b88",
   "metadata": {},
   "outputs": [],
   "source": [
    "concatenated2= pd.concat([timedf, time_df2, artist_df], axis=1)"
   ]
  },
  {
   "cell_type": "code",
   "execution_count": null,
   "id": "e282460a",
   "metadata": {},
   "outputs": [],
   "source": [
    "concatenated2"
   ]
  },
  {
   "cell_type": "code",
   "execution_count": null,
   "id": "8f131e68",
   "metadata": {},
   "outputs": [],
   "source": [
    "for page in range(1, 5):\n",
    "    print(f\"Page {page}\")\n",
    "    url = f'https://ryman.com/events/'\n",
    "    r = requests.get(url)\n",
    "    soup = BeautifulSoup(r.text, 'html.parser')\n",
    "\n",
    "    for artists in soup.find_all('title'):\n",
    "        data = [td.text for td in artists.find_all('title')]\n",
    "        print(data)"
   ]
  },
  {
   "cell_type": "code",
   "execution_count": null,
   "id": "7d94753a",
   "metadata": {},
   "outputs": [],
   "source": [
    "r = requests.get(url)"
   ]
  },
  {
   "cell_type": "code",
   "execution_count": null,
   "id": "851abeb5",
   "metadata": {},
   "outputs": [],
   "source": [
    "URL = 'https://ryman.com/events/'\n",
    "page = 0\n",
    "for i in range(0,5):\n",
    "    page = page+i\n",
    "    URL = 'https://ryman.com/events/'\n",
    "    URL = URL + str(page)\n",
    "    r = requests.get(url)\n",
    "    soup = BeautifulSoup(r.text, 'html.parser')\n",
    "    \n",
    "    data = {'title': name, 'time': time}\n",
    "    df = pd.DataFrame(data, columns = ['title', 'time'])\n",
    "    df"
   ]
  },
  {
   "cell_type": "code",
   "execution_count": null,
   "id": "011fcaf9",
   "metadata": {},
   "outputs": [],
   "source": [
    "df"
   ]
  },
  {
   "cell_type": "code",
   "execution_count": null,
   "id": "725a494c",
   "metadata": {},
   "outputs": [],
   "source": []
  }
 ],
 "metadata": {
  "kernelspec": {
   "display_name": "Python 3 (ipykernel)",
   "language": "python",
   "name": "python3"
  },
  "language_info": {
   "codemirror_mode": {
    "name": "ipython",
    "version": 3
   },
   "file_extension": ".py",
   "mimetype": "text/x-python",
   "name": "python",
   "nbconvert_exporter": "python",
   "pygments_lexer": "ipython3",
   "version": "3.9.12"
  }
 },
 "nbformat": 4,
 "nbformat_minor": 5
}
